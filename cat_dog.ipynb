{
 "cells": [
  {
   "cell_type": "code",
   "execution_count": 1,
   "id": "0d836b7e",
   "metadata": {},
   "outputs": [],
   "source": [
    "import os\n",
    "import pandas as pd\n",
    "import numpy as np\n",
    "import cv2\n",
    "import pickle\n"
   ]
  },
  {
   "cell_type": "code",
   "execution_count": 3,
   "id": "c24f5f0a",
   "metadata": {},
   "outputs": [],
   "source": [
    "# Data processing.\n",
    "array_values , labels = [],[]\n",
    "size = 150\n",
    "path = r'D:\\Work\\AI club Project\\Presentation\\Cat-Dog\\train'\n",
    "categories = ['cats','dogs']\n",
    "for category in categories :\n",
    "    #The folder in directory\n",
    "    folder = os.path.join(path,category)\n",
    "    # Indexing the labels\n",
    "    label = categories.index(category)\n",
    "\n",
    "    for image in os.listdir(folder):\n",
    "        #Path of the images in the folder\n",
    "        image_path = os.path.join(folder,image)\n",
    "        # Reading the image.\n",
    "        image_array = cv2.imread(image_path)\n",
    "\n",
    "        #resizing the image\n",
    "        image_array = cv2.resize(image_array,(size,size))\n",
    "\n",
    "        # adding all the value for out dataframe\n",
    "        array_values.append(image_array.flatten())\n",
    "        labels.append(label)\n",
    "        "
   ]
  },
  {
   "cell_type": "code",
   "execution_count": 4,
   "id": "5ec8c684",
   "metadata": {},
   "outputs": [
    {
     "name": "stdout",
     "output_type": "stream",
     "text": [
      "       0   1   2   3    4    5   6    7    8    9  ...  67491  67492  67493  \\\n",
      "0    -79 -76 -85 -85  -82  -91 -84  -81  -90  -88  ...    -48    -50    -54   \n",
      "1     -6 -16 -23  -6  -16  -23  -6  -16  -23   -6  ...     24     19     20   \n",
      "2     24  19  18  24   19   18  25   20   19   26  ...     13     11     11   \n",
      "3    -26 -19 -14 -35  -23  -19 -40  -23  -20  -41  ...    -16    -16    -16   \n",
      "4     62  84  90  49   71   77  65   87   93  114  ...     53     60     63   \n",
      "..   ...  ..  ..  ..  ...  ...  ..  ...  ...  ...  ...    ...    ...    ...   \n",
      "552   -1  -1  -1  -1   -1   -1  -1   -1   -1   -1  ...     -1     -1     -1   \n",
      "553  -13  -8  -5 -15   -8   -5 -11   -6   -3  -12  ...    -62    -35    -21   \n",
      "554 -111  98  97 -95  113  112 -81 -128  127  -73  ...     54    100    112   \n",
      "555   31  57  44  29   52   40  27   50   36   25  ...    127   -106    -84   \n",
      "556   31  74  96  34   77   98  48   91  112   71  ...      0     14     13   \n",
      "\n",
      "     67494  67495  67496  67497  67498  67499  label  \n",
      "0      -51    -54    -58    -49    -52    -56      0  \n",
      "1       23     18     19     23     18     19      0  \n",
      "2       12     10     10     12     10     10      0  \n",
      "3      -15    -15    -15    -22    -19    -15      0  \n",
      "4       62     69     72     41     48     51      0  \n",
      "..     ...    ...    ...    ...    ...    ...    ...  \n",
      "552     -1     -1     -1     -1     -1     -1      1  \n",
      "553    -28    -15     -7    -22    -11     -7      1  \n",
      "554     54    103    105     54    103    105      1  \n",
      "555    122   -110    -92    120   -117    -96      1  \n",
      "556      0     11     10      2     10      9      1  \n",
      "\n",
      "[557 rows x 67501 columns]\n"
     ]
    }
   ],
   "source": [
    "# Creating a dataframe\n",
    "dataframe = pd.DataFrame(array_values)\n",
    "dataframe['label'] = labels\n",
    "print(dataframe)"
   ]
  },
  {
   "cell_type": "code",
   "execution_count": 5,
   "id": "0c232e3b",
   "metadata": {},
   "outputs": [],
   "source": [
    "X = dataframe.iloc[ : , :-1].values\n",
    "y = dataframe.loc[ : ,'label']"
   ]
  },
  {
   "cell_type": "code",
   "execution_count": 6,
   "id": "33b942b4",
   "metadata": {},
   "outputs": [],
   "source": [
    "#Testing and training split\n",
    "from sklearn.model_selection import train_test_split"
   ]
  },
  {
   "cell_type": "code",
   "execution_count": 7,
   "id": "9df8334e",
   "metadata": {},
   "outputs": [],
   "source": [
    "X_train,X_test,y_train,y_test = train_test_split(X,y,test_size=0.2,shuffle=True)"
   ]
  },
  {
   "cell_type": "code",
   "execution_count": 8,
   "id": "601b18d5",
   "metadata": {},
   "outputs": [
    {
     "name": "stdout",
     "output_type": "stream",
     "text": [
      "The score of our model is : 0.625\n"
     ]
    }
   ],
   "source": [
    "# The model 1\n",
    "from sklearn.ensemble import RandomForestClassifier\n",
    "\n",
    "cat_dog_model = RandomForestClassifier(random_state=0,n_estimators=55)\n",
    "\n",
    "cat_dog_model.fit(X_train,y_train)\n",
    "\n",
    "score = cat_dog_model.score(X_test,y_test)\n",
    "\n",
    "print(f\"The score of our model is : {score}\")"
   ]
  },
  {
   "cell_type": "code",
   "execution_count": 9,
   "id": "c2909a9d",
   "metadata": {},
   "outputs": [
    {
     "name": "stdout",
     "output_type": "stream",
     "text": [
      "The score for  DecisionTreeClassifier classification model is : 0.5535714285714286 \n"
     ]
    }
   ],
   "source": [
    "# The model 2 \n",
    "from sklearn.tree import DecisionTreeClassifier\n",
    "\n",
    "cat_dog_model2 = DecisionTreeClassifier(random_state=0)\n",
    "\n",
    "cat_dog_model2.fit(X_train,y_train)\n",
    "\n",
    "score2 = cat_dog_model2.score(X_test,y_test)\n",
    "\n",
    "print(f\"The score for  DecisionTreeClassifier classification model is : {score2} \")"
   ]
  },
  {
   "cell_type": "code",
   "execution_count": null,
   "id": "3f60479f",
   "metadata": {},
   "outputs": [],
   "source": []
  }
 ],
 "metadata": {
  "kernelspec": {
   "display_name": "Python 3 (ipykernel)",
   "language": "python",
   "name": "python3"
  },
  "language_info": {
   "codemirror_mode": {
    "name": "ipython",
    "version": 3
   },
   "file_extension": ".py",
   "mimetype": "text/x-python",
   "name": "python",
   "nbconvert_exporter": "python",
   "pygments_lexer": "ipython3",
   "version": "3.10.7"
  }
 },
 "nbformat": 4,
 "nbformat_minor": 5
}
